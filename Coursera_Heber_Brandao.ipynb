{
  "nbformat": 4,
  "nbformat_minor": 0,
  "metadata": {
    "colab": {
      "provenance": [],
      "authorship_tag": "ABX9TyMliiVEh+Pp/X+A6YK5XIBd",
      "include_colab_link": true
    },
    "kernelspec": {
      "name": "python3",
      "display_name": "Python 3"
    },
    "language_info": {
      "name": "python"
    }
  },
  "cells": [
    {
      "cell_type": "markdown",
      "metadata": {
        "id": "view-in-github",
        "colab_type": "text"
      },
      "source": [
        "<a href=\"https://colab.research.google.com/github/heberbrandao/coursera-stats/blob/main/Coursera_Heber_Brandao.ipynb\" target=\"_parent\"><img src=\"https://colab.research.google.com/assets/colab-badge.svg\" alt=\"Open In Colab\"/></a>"
      ]
    },
    {
      "cell_type": "code",
      "execution_count": 1,
      "metadata": {
        "colab": {
          "base_uri": "https://localhost:8080/"
        },
        "id": "XXwXG6Fk3rKf",
        "outputId": "aadf7014-72f8-4a61-8091-3f1393970426"
      },
      "outputs": [
        {
          "output_type": "stream",
          "name": "stdout",
          "text": [
            "<class 'pandas.core.frame.DataFrame'>\n",
            "Int64Index: 506 entries, 0 to 505\n",
            "Data columns (total 13 columns):\n",
            " #   Column   Non-Null Count  Dtype  \n",
            "---  ------   --------------  -----  \n",
            " 0   CRIM     506 non-null    float64\n",
            " 1   ZN       506 non-null    float64\n",
            " 2   INDUS    506 non-null    float64\n",
            " 3   CHAS     506 non-null    float64\n",
            " 4   NOX      506 non-null    float64\n",
            " 5   RM       506 non-null    float64\n",
            " 6   AGE      506 non-null    float64\n",
            " 7   DIS      506 non-null    float64\n",
            " 8   RAD      506 non-null    float64\n",
            " 9   TAX      506 non-null    float64\n",
            " 10  PTRATIO  506 non-null    float64\n",
            " 11  LSTAT    506 non-null    float64\n",
            " 12  MEDV     506 non-null    float64\n",
            "dtypes: float64(13)\n",
            "memory usage: 55.3 KB\n"
          ]
        }
      ],
      "source": [
        "import numpy as np\n",
        "import pandas as pd\n",
        "import seaborn as sns\n",
        "import matplotlib.pyplot as plt \n",
        "\n",
        "import scipy.stats\n",
        "import statsmodels.api as sm\n",
        "\n",
        "boston_url = 'https://cf-courses-data.s3.us.cloud-object-storage.appdomain.cloud/IBMDeveloperSkillsNetwork-ST0151EN-SkillsNetwork/labs/boston_housing.csv'\n",
        "boston_df=pd.read_csv(boston_url, index_col=0)\n",
        "boston_df.info()"
      ]
    },
    {
      "cell_type": "markdown",
      "source": [
        "# Task 4: Generate Descriptive Statistics and Visualizations\n"
      ],
      "metadata": {
        "id": "bfEtApMi3weK"
      }
    },
    {
      "cell_type": "markdown",
      "source": [
        "## For the \"Median value of owner-occupied homes\" provide a boxplot"
      ],
      "metadata": {
        "id": "ng-uxhp35DHZ"
      }
    },
    {
      "cell_type": "code",
      "source": [
        "ax = sns.boxplot(y='MEDV', data=boston_df)\n",
        "plt.title(\"Median Values of Owner-occupied homes\");"
      ],
      "metadata": {
        "colab": {
          "base_uri": "https://localhost:8080/",
          "height": 268
        },
        "id": "a9MOqxFM33nr",
        "outputId": "a0e27265-9277-47e3-b34c-3c6b85f222ab"
      },
      "execution_count": 2,
      "outputs": [
        {
          "output_type": "display_data",
          "data": {
            "text/plain": [
              "<Figure size 432x288 with 1 Axes>"
            ],
            "image/png": "[encoded data removed]"
          },
          "metadata": {
            "needs_background": "light"
          }
        }
      ]
    },
    {
      "cell_type": "markdown",
      "source": [
        "## Provide a  bar plot for the Charles river variable\n"
      ],
      "metadata": {
        "id": "7JZ9AAif4RoM"
      }
    },
    {
      "cell_type": "code",
      "source": [
        "sns.catplot(x='CHAS', kind='count', data=boston_df)\n",
        "plt.xlabel(\"Charles River Variable\");"
      ],
      "metadata": {
        "colab": {
          "base_uri": "https://localhost:8080/",
          "height": 369
        },
        "id": "Gxzy0Qad37vd",
        "outputId": "6a466bab-b9bc-441d-c49f-54b18c27aca2"
      },
      "execution_count": 3,
      "outputs": [
        {
          "output_type": "display_data",
          "data": {
            "text/plain": [
              "<Figure size 360x360 with 1 Axes>"
            ],
            "image/png": "[encoded data removed]"
          },
          "metadata": {
            "needs_background": "light"
          }
        }
      ]
    },
    {
      "cell_type": "markdown",
      "source": [
        "## Provide a boxplot for the MEDV variable vs the AGE variable. (Discretize the age variable into three groups of 35 years and younger, between 35 and 70 years and 70 years and older)\n"
      ],
      "metadata": {
        "id": "5oVh5H-f4Xgz"
      }
    },
    {
      "cell_type": "code",
      "source": [
        "# Create age groups\n",
        "boston_df.loc[(boston_df.AGE <= 35), 'age_group'] = '35 years and younger'\n",
        "boston_df.loc[((boston_df.AGE > 35)&(boston_df.AGE < 70)), 'age_group'] = 'between 35 and 70 years'\n",
        "boston_df.loc[(boston_df.AGE >= 70), 'age_group'] = '70 years and older'"
      ],
      "metadata": {
        "id": "sbI4hZNP3-0W"
      },
      "execution_count": 4,
      "outputs": []
    },
    {
      "cell_type": "code",
      "source": [
        "ax = sns.boxplot(x='age_group', y='MEDV', data=boston_df)\n",
        "plt.title(\"Median value vs Age Groups\")\n",
        "plt.ylabel(\"Median Value\")\n",
        "plt.show()"
      ],
      "metadata": {
        "colab": {
          "base_uri": "https://localhost:8080/",
          "height": 295
        },
        "id": "v9VsPILx4Fp2",
        "outputId": "c00f0844-7b03-42ac-c3ca-e5e365b96247"
      },
      "execution_count": 5,
      "outputs": [
        {
          "output_type": "display_data",
          "data": {
            "text/plain": [
              "<Figure size 432x288 with 1 Axes>"
            ],
            "image/png": "[encoded data removed]"
          },
          "metadata": {
            "needs_background": "light"
          }
        }
      ]
    },
    {
      "cell_type": "markdown",
      "source": [
        "## Provide a scatter plot to show the relationship between Nitric oxide concentrations and the proportion of non-retail business acres per town. What can you say about the relationship?"
      ],
      "metadata": {
        "id": "MNvNjROP4aKp"
      }
    },
    {
      "cell_type": "code",
      "source": [
        "ax = sns.scatterplot(y='INDUS', x='NOX', data=boston_df)\n",
        "plt.xlabel(\"Concentration of Nitric Oxide (in ppm)\")\n",
        "plt.ylabel(\"Proportion of Non-retail Business Acres\")\n",
        "plt.show()"
      ],
      "metadata": {
        "colab": {
          "base_uri": "https://localhost:8080/",
          "height": 279
        },
        "id": "iFcDzaT_4KnX",
        "outputId": "6f6bc7a3-d969-47af-95ff-47950a2c4511"
      },
      "execution_count": 6,
      "outputs": [
        {
          "output_type": "display_data",
          "data": {
            "text/plain": [
              "<Figure size 432x288 with 1 Axes>"
            ],
            "image/png": "[encoded data removed]"
          },
          "metadata": {
            "needs_background": "light"
          }
        }
      ]
    },
    {
      "cell_type": "markdown",
      "source": [
        "There is a **positive correlation** between variables, until the conentration of Nitric Oxide reaches 0.6ppm"
      ],
      "metadata": {
        "id": "HSEF5nCq4hrV"
      }
    },
    {
      "cell_type": "markdown",
      "source": [
        "## Create a histogram for the pupil to teacher ratio variable"
      ],
      "metadata": {
        "id": "61IyS5im4clQ"
      }
    },
    {
      "cell_type": "code",
      "source": [
        "sns.distplot(boston_df.PTRATIO, kde=False, bins=15)\n",
        "plt.xlabel(\"Pupil to Teacher Ratio\")\n",
        "plt.show()"
      ],
      "metadata": {
        "colab": {
          "base_uri": "https://localhost:8080/",
          "height": 335
        },
        "id": "JtMt56Mh4dY8",
        "outputId": "e440a728-98b9-4768-b409-7788a030b102"
      },
      "execution_count": 7,
      "outputs": [
        {
          "output_type": "stream",
          "name": "stderr",
          "text": [
            "/usr/local/lib/python3.7/dist-packages/seaborn/distributions.py:2619: FutureWarning: `distplot` is a deprecated function and will be removed in a future version. Please adapt your code to use either `displot` (a figure-level function with similar flexibility) or `histplot` (an axes-level function for histograms).\n",
            "  warnings.warn(msg, FutureWarning)\n"
          ]
        },
        {
          "output_type": "display_data",
          "data": {
            "text/plain": [
              "<Figure size 432x288 with 1 Axes>"
            ],
            "image/png": "[encoded data removed]"
          },
          "metadata": {
            "needs_background": "light"
          }
        }
      ]
    },
    {
      "cell_type": "markdown",
      "source": [
        "# Task 5\n",
        "\n",
        "\n",
        "---\n"
      ],
      "metadata": {
        "id": "YZ4im-hD4rUe"
      }
    },
    {
      "cell_type": "markdown",
      "source": [
        "## Question 1\n",
        "Is there a significant difference in median value of houses bounded by the Charles river or not? (T-test for independent samples)\n",
        "\n",
        "**Stating Hypothesis**\n",
        "\n",
        "- \\\\(H{_0}:\\mu{_1} = \\mu{_2}\\\\)\n",
        "\n",
        "- \\\\(H{_a}:\\mu{_1} ≠ \\mu{_2}\\\\)\n",
        "\n",
        "\\\\(a = 0.05\\\\)"
      ],
      "metadata": {
        "id": "DPGm9qFv5PNq"
      }
    },
    {
      "cell_type": "code",
      "source": [
        "scipy.stats.ttest_ind(boston_df[boston_df.CHAS == 1].MEDV,\n",
        "                     boston_df[boston_df.CHAS == 0].MEDV)"
      ],
      "metadata": {
        "colab": {
          "base_uri": "https://localhost:8080/"
        },
        "id": "UszzXdHR40BA",
        "outputId": "f5cabd21-0f79-454e-8b2b-3b541d92e3c8"
      },
      "execution_count": 8,
      "outputs": [
        {
          "output_type": "execute_result",
          "data": {
            "text/plain": [
              "Ttest_indResult(statistic=3.996437466090509, pvalue=7.390623170519905e-05)"
            ]
          },
          "metadata": {},
          "execution_count": 8
        }
      ]
    },
    {
      "cell_type": "markdown",
      "source": [
        "**Conclusion**\n",
        "\n",
        "Since the p-value is less than 0.05, we will **reject the null hypothesis** as there is no significance difference in median value of houses bounded by Charles river and not."
      ],
      "metadata": {
        "id": "15sb6egt5aW5"
      }
    },
    {
      "cell_type": "markdown",
      "source": [
        "## Question 2\n",
        "Is there a difference in Median values of houses (MEDV) for each proportion of owner occupied units built prior to 1940 (AGE)? (ANOVA)\n",
        "\n",
        "**Stating Hypothesis**\n",
        "\n",
        "- \\\\(H{_0}:\\mu{_1} = \\mu{_2}\\\\)\n",
        "\n",
        "- \\\\(H{_a}:\\mu{_1} ≠ \\mu{_2}\\\\)\n",
        "\n",
        "\\\\(a = 0.05\\\\)"
      ],
      "metadata": {
        "id": "qOQYa7795g-2"
      }
    },
    {
      "cell_type": "code",
      "source": [
        "# Create tiers\n",
        "boston_df.loc[(boston_df.AGE > 81), 'age_span'] = 'before 1940'\n",
        "boston_df.loc[(boston_df.AGE <= 81), 'age_span'] = 'after 1940'"
      ],
      "metadata": {
        "id": "4SBRwxvu5rnm"
      },
      "execution_count": 9,
      "outputs": []
    },
    {
      "cell_type": "code",
      "source": [
        "scipy.stats.levene(boston_df[boston_df.age_span=='before 1940']['MEDV'],\n",
        "                  boston_df[boston_df.age_span=='after 1940']['MEDV'],\n",
        "                  center='mean')"
      ],
      "metadata": {
        "colab": {
          "base_uri": "https://localhost:8080/"
        },
        "id": "jheJSszG5w0b",
        "outputId": "b639c0b5-268e-41eb-a1ab-825776f6db1a"
      },
      "execution_count": 10,
      "outputs": [
        {
          "output_type": "execute_result",
          "data": {
            "text/plain": [
              "LeveneResult(statistic=1.587082228964923, pvalue=0.2083265383143275)"
            ]
          },
          "metadata": {},
          "execution_count": 10
        }
      ]
    },
    {
      "cell_type": "markdown",
      "source": [
        "**Conclusion**\n",
        "\n",
        "Since the p-value is greater than 0.05, we will **fail to reject the null hypothesis** as there is no significance difference in median value of houses before and after 1940."
      ],
      "metadata": {
        "id": "t_yiZEcK5xro"
      }
    },
    {
      "cell_type": "markdown",
      "source": [
        "## Question 3\n",
        "Can we conclude that there is no relationship between Nitric oxide concentrations and proportion of non-retail business acres per town? (Pearson Correlation)\n",
        "\n",
        "**Stating Hypothesis**\n",
        "\n",
        "- \\\\(H{_0}:\\\\) There is no relationship between Nitric Oxide concentration and proportion of non-retail business acres per town.\n",
        "\n",
        "- \\\\(H{_a}:\\\\) There is a relationship between Nitric Oxide concentration and proportion of non-retail business acres per town.\n",
        "\n",
        "\\\\(a = 0.05\\\\)"
      ],
      "metadata": {
        "id": "FiCrxTqO58Ew"
      }
    },
    {
      "cell_type": "code",
      "source": [
        "scipy.stats.pearsonr(boston_df.NOX, boston_df.INDUS)"
      ],
      "metadata": {
        "colab": {
          "base_uri": "https://localhost:8080/"
        },
        "id": "5BQHy2C16C_N",
        "outputId": "3a3e05e5-d403-4c11-a446-abb43ebc3e62"
      },
      "execution_count": 11,
      "outputs": [
        {
          "output_type": "execute_result",
          "data": {
            "text/plain": [
              "(0.7636514469209151, 7.913361061238693e-98)"
            ]
          },
          "metadata": {},
          "execution_count": 11
        }
      ]
    },
    {
      "cell_type": "markdown",
      "source": [
        "**Conclusion**\n",
        "\n",
        "- Since the p-value is lower than 0.05, we can **reject the null hypothesis** that there is no relationship between the nitric acid concentration and the proportion of non-retail business acres per town.\n",
        "- Since the correlation coefficient is 0.76, we can state that there is a positive correlation between those variables."
      ],
      "metadata": {
        "id": "yTWgGwBJ6G_J"
      }
    },
    {
      "cell_type": "markdown",
      "source": [
        "## Question 4\n",
        "What is the impact of an additional weighted distance  to the five Boston employment centres on the median value of owner occupied homes? (Regression analysis)"
      ],
      "metadata": {
        "id": "zU3M-dnZ6J8y"
      }
    },
    {
      "cell_type": "code",
      "source": [
        "X = boston_df['DIS']\n",
        "y = boston_df['MEDV']\n",
        "\n",
        "X = sm.add_constant(X) \n",
        "\n",
        "model = sm.OLS(y, X).fit()\n",
        "predictions = model.predict(X)\n",
        "\n",
        "model.summary()"
      ],
      "metadata": {
        "colab": {
          "base_uri": "https://localhost:8080/",
          "height": 487
        },
        "id": "qdkelxcf6Ooe",
        "outputId": "dfa890f0-3444-4a7b-d2cb-77dbf5bf9956"
      },
      "execution_count": 12,
      "outputs": [
        {
          "output_type": "stream",
          "name": "stderr",
          "text": [
            "/usr/local/lib/python3.7/dist-packages/statsmodels/tsa/tsatools.py:142: FutureWarning: In a future version of pandas all arguments of concat except for the argument 'objs' will be keyword-only\n",
            "  x = pd.concat(x[::order], 1)\n"
          ]
        },
        {
          "output_type": "execute_result",
          "data": {
            "text/plain": [
              "<class 'statsmodels.iolib.summary.Summary'>\n",
              "\"\"\"\n",
              "                            OLS Regression Results                            \n",
              "==============================================================================\n",
              "Dep. Variable:                   MEDV   R-squared:                       0.062\n",
              "Model:                            OLS   Adj. R-squared:                  0.061\n",
              "Method:                 Least Squares   F-statistic:                     33.58\n",
              "Date:                Fri, 09 Sep 2022   Prob (F-statistic):           1.21e-08\n",
              "Time:                        11:01:06   Log-Likelihood:                -1823.9\n",
              "No. Observations:                 506   AIC:                             3652.\n",
              "Df Residuals:                     504   BIC:                             3660.\n",
              "Df Model:                           1                                         \n",
              "Covariance Type:            nonrobust                                         \n",
              "==============================================================================\n",
              "                 coef    std err          t      P>|t|      [0.025      0.975]\n",
              "------------------------------------------------------------------------------\n",
              "const         18.3901      0.817     22.499      0.000      16.784      19.996\n",
              "DIS            1.0916      0.188      5.795      0.000       0.722       1.462\n",
              "==============================================================================\n",
              "Omnibus:                      139.779   Durbin-Watson:                   0.570\n",
              "Prob(Omnibus):                  0.000   Jarque-Bera (JB):              305.104\n",
              "Skew:                           1.466   Prob(JB):                     5.59e-67\n",
              "Kurtosis:                       5.424   Cond. No.                         9.32\n",
              "==============================================================================\n",
              "\n",
              "Notes:\n",
              "[1] Standard Errors assume that the covariance matrix of the errors is correctly specified.\n",
              "\"\"\""
            ],
            "text/html": [
              "<table class=\"simpletable\">\n",
              "<caption>OLS Regression Results</caption>\n",
              "<tr>\n",
              "  <th>Dep. Variable:</th>          <td>MEDV</td>       <th>  R-squared:         </th> <td>   0.062</td>\n",
              "</tr>\n",
              "<tr>\n",
              "  <th>Model:</th>                   <td>OLS</td>       <th>  Adj. R-squared:    </th> <td>   0.061</td>\n",
              "</tr>\n",
              "<tr>\n",
              "  <th>Method:</th>             <td>Least Squares</td>  <th>  F-statistic:       </th> <td>   33.58</td>\n",
              "</tr>\n",
              "<tr>\n",
              "  <th>Date:</th>             <td>Fri, 09 Sep 2022</td> <th>  Prob (F-statistic):</th> <td>1.21e-08</td>\n",
              "</tr>\n",
              "<tr>\n",
              "  <th>Time:</th>                 <td>11:01:06</td>     <th>  Log-Likelihood:    </th> <td> -1823.9</td>\n",
              "</tr>\n",
              "<tr>\n",
              "  <th>No. Observations:</th>      <td>   506</td>      <th>  AIC:               </th> <td>   3652.</td>\n",
              "</tr>\n",
              "<tr>\n",
              "  <th>Df Residuals:</th>          <td>   504</td>      <th>  BIC:               </th> <td>   3660.</td>\n",
              "</tr>\n",
              "<tr>\n",
              "  <th>Df Model:</th>              <td>     1</td>      <th>                     </th>     <td> </td>   \n",
              "</tr>\n",
              "<tr>\n",
              "  <th>Covariance Type:</th>      <td>nonrobust</td>    <th>                     </th>     <td> </td>   \n",
              "</tr>\n",
              "</table>\n",
              "<table class=\"simpletable\">\n",
              "<tr>\n",
              "    <td></td>       <th>coef</th>     <th>std err</th>      <th>t</th>      <th>P>|t|</th>  <th>[0.025</th>    <th>0.975]</th>  \n",
              "</tr>\n",
              "<tr>\n",
              "  <th>const</th> <td>   18.3901</td> <td>    0.817</td> <td>   22.499</td> <td> 0.000</td> <td>   16.784</td> <td>   19.996</td>\n",
              "</tr>\n",
              "<tr>\n",
              "  <th>DIS</th>   <td>    1.0916</td> <td>    0.188</td> <td>    5.795</td> <td> 0.000</td> <td>    0.722</td> <td>    1.462</td>\n",
              "</tr>\n",
              "</table>\n",
              "<table class=\"simpletable\">\n",
              "<tr>\n",
              "  <th>Omnibus:</th>       <td>139.779</td> <th>  Durbin-Watson:     </th> <td>   0.570</td>\n",
              "</tr>\n",
              "<tr>\n",
              "  <th>Prob(Omnibus):</th> <td> 0.000</td>  <th>  Jarque-Bera (JB):  </th> <td> 305.104</td>\n",
              "</tr>\n",
              "<tr>\n",
              "  <th>Skew:</th>          <td> 1.466</td>  <th>  Prob(JB):          </th> <td>5.59e-67</td>\n",
              "</tr>\n",
              "<tr>\n",
              "  <th>Kurtosis:</th>      <td> 5.424</td>  <th>  Cond. No.          </th> <td>    9.32</td>\n",
              "</tr>\n",
              "</table><br/><br/>Notes:<br/>[1] Standard Errors assume that the covariance matrix of the errors is correctly specified."
            ]
          },
          "metadata": {},
          "execution_count": 12
        }
      ]
    },
    {
      "cell_type": "markdown",
      "source": [
        "**Conclusion**\n",
        "There is an additional impact of 1.0916 of weighted distance to the five Boston employment centres on the median value of owner occupied homes."
      ],
      "metadata": {
        "id": "BirgfpFh6STa"
      }
    }
  ]
}